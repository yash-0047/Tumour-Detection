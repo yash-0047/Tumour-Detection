{
 "cells": [
  {
   "cell_type": "code",
   "execution_count": 61,
   "id": "ad2a7f2c",
   "metadata": {},
   "outputs": [],
   "source": [
    "import warnings\n",
    "warnings.filterwarnings('ignore')\n",
    "\n",
    "import numpy as np\n",
    "import matplotlib.pyplot as plt\n",
    "import os\n",
    "import math\n",
    "import shutil\n",
    "import glob\n"
   ]
  },
  {
   "cell_type": "code",
   "execution_count": 62,
   "id": "84b21509",
   "metadata": {},
   "outputs": [],
   "source": [
    "# count the number of images in the classes here, 0= tumour; 1= no tumour\n",
    "ROOT_DIR = r'C:\\Users\\lenovo\\Desktop\\Code\\Mini Project\\Tumour Detection\\Training Data'\n",
    "number_of_img ={}\n",
    "\n",
    "for dir in os.listdir(ROOT_DIR):\n",
    "    number_of_img[dir] = len(os.listdir(os.path.join(ROOT_DIR, dir)))\n",
    "    \n",
    "    #print(number_of_img.items())"
   ]
  },
  {
   "cell_type": "markdown",
   "id": "38c5db02",
   "metadata": {},
   "source": [
    "We will **split data** in such a manner that:\n",
    "\n",
    "**70%** of the data will be used for **training**. \n",
    "\n",
    "**15%** of the data will be used for **validation**. \n",
    "\n",
    "**15%** of the data will be used for **testing**."
   ]
  },
  {
   "cell_type": "code",
   "execution_count": 63,
   "id": "c7d18c24",
   "metadata": {},
   "outputs": [],
   "source": [
    "# we will create a training folder\n",
    "\n",
    "def dataFolderCreator(path, split):\n",
    "\n",
    "    if not os.path.exists('./'+path):\n",
    "        os.makedirs('./'+path)\n",
    "\n",
    "        for dir in os.listdir(ROOT_DIR):\n",
    "            os.makedirs(\"./\"+path+\"/\"+dir)\n",
    "            for img in np.random.choice(a= os.listdir(os.path.join(ROOT_DIR, dir)), size=(math.floor(split * number_of_img[dir])-5), replace=False):\n",
    "        \n",
    "                o= os.path.join(ROOT_DIR, dir, img) #path\n",
    "                D= os.path.join(\"./\"+path,dir)\n",
    "                shutil.copy(o, D) #copy the file to the new folder\n",
    "                \n",
    "                # os.remove(o) -> (uncomment this line to remove the original file after copying) \n",
    "\n",
    "    else:\n",
    "        print(f\"{path} folder exists\")"
   ]
  },
  {
   "cell_type": "code",
   "execution_count": 64,
   "id": "30434c83",
   "metadata": {},
   "outputs": [
    {
     "name": "stdout",
     "output_type": "stream",
     "text": [
      "TrainingData folder exists\n",
      "ValidationData folder exists\n",
      "TestingData folder exists\n"
     ]
    }
   ],
   "source": [
    "dataFolderCreator('TrainingData', 0.7)\n",
    "dataFolderCreator('ValidationData', 0.15)\n",
    "dataFolderCreator('TestingData', 0.15)\n",
    "\n"
   ]
  },
  {
   "cell_type": "markdown",
   "id": "7cb0bb06",
   "metadata": {},
   "source": [
    "## *Model Building*"
   ]
  },
  {
   "cell_type": "code",
   "execution_count": 65,
   "id": "9f0b3f14",
   "metadata": {},
   "outputs": [
    {
     "data": {
      "text/html": [
       "<pre style=\"white-space:pre;overflow-x:auto;line-height:normal;font-family:Menlo,'DejaVu Sans Mono',consolas,'Courier New',monospace\"><span style=\"font-weight: bold\">Model: \"sequential_5\"</span>\n",
       "</pre>\n"
      ],
      "text/plain": [
       "\u001b[1mModel: \"sequential_5\"\u001b[0m\n"
      ]
     },
     "metadata": {},
     "output_type": "display_data"
    },
    {
     "data": {
      "text/html": [
       "<pre style=\"white-space:pre;overflow-x:auto;line-height:normal;font-family:Menlo,'DejaVu Sans Mono',consolas,'Courier New',monospace\">┏━━━━━━━━━━━━━━━━━━━━━━━━━━━━━━━━━┳━━━━━━━━━━━━━━━━━━━━━━━━┳━━━━━━━━━━━━━━━┓\n",
       "┃<span style=\"font-weight: bold\"> Layer (type)                    </span>┃<span style=\"font-weight: bold\"> Output Shape           </span>┃<span style=\"font-weight: bold\">       Param # </span>┃\n",
       "┡━━━━━━━━━━━━━━━━━━━━━━━━━━━━━━━━━╇━━━━━━━━━━━━━━━━━━━━━━━━╇━━━━━━━━━━━━━━━┩\n",
       "│ conv2d_16 (<span style=\"color: #0087ff; text-decoration-color: #0087ff\">Conv2D</span>)              │ (<span style=\"color: #00d7ff; text-decoration-color: #00d7ff\">None</span>, <span style=\"color: #00af00; text-decoration-color: #00af00\">224</span>, <span style=\"color: #00af00; text-decoration-color: #00af00\">224</span>, <span style=\"color: #00af00; text-decoration-color: #00af00\">16</span>)   │           <span style=\"color: #00af00; text-decoration-color: #00af00\">448</span> │\n",
       "├─────────────────────────────────┼────────────────────────┼───────────────┤\n",
       "│ conv2d_17 (<span style=\"color: #0087ff; text-decoration-color: #0087ff\">Conv2D</span>)              │ (<span style=\"color: #00d7ff; text-decoration-color: #00d7ff\">None</span>, <span style=\"color: #00af00; text-decoration-color: #00af00\">222</span>, <span style=\"color: #00af00; text-decoration-color: #00af00\">222</span>, <span style=\"color: #00af00; text-decoration-color: #00af00\">36</span>)   │         <span style=\"color: #00af00; text-decoration-color: #00af00\">5,220</span> │\n",
       "├─────────────────────────────────┼────────────────────────┼───────────────┤\n",
       "│ max_pooling2d_12 (<span style=\"color: #0087ff; text-decoration-color: #0087ff\">MaxPooling2D</span>) │ (<span style=\"color: #00d7ff; text-decoration-color: #00d7ff\">None</span>, <span style=\"color: #00af00; text-decoration-color: #00af00\">111</span>, <span style=\"color: #00af00; text-decoration-color: #00af00\">111</span>, <span style=\"color: #00af00; text-decoration-color: #00af00\">36</span>)   │             <span style=\"color: #00af00; text-decoration-color: #00af00\">0</span> │\n",
       "├─────────────────────────────────┼────────────────────────┼───────────────┤\n",
       "│ conv2d_18 (<span style=\"color: #0087ff; text-decoration-color: #0087ff\">Conv2D</span>)              │ (<span style=\"color: #00d7ff; text-decoration-color: #00d7ff\">None</span>, <span style=\"color: #00af00; text-decoration-color: #00af00\">109</span>, <span style=\"color: #00af00; text-decoration-color: #00af00\">109</span>, <span style=\"color: #00af00; text-decoration-color: #00af00\">64</span>)   │        <span style=\"color: #00af00; text-decoration-color: #00af00\">20,800</span> │\n",
       "├─────────────────────────────────┼────────────────────────┼───────────────┤\n",
       "│ max_pooling2d_13 (<span style=\"color: #0087ff; text-decoration-color: #0087ff\">MaxPooling2D</span>) │ (<span style=\"color: #00d7ff; text-decoration-color: #00d7ff\">None</span>, <span style=\"color: #00af00; text-decoration-color: #00af00\">54</span>, <span style=\"color: #00af00; text-decoration-color: #00af00\">54</span>, <span style=\"color: #00af00; text-decoration-color: #00af00\">64</span>)     │             <span style=\"color: #00af00; text-decoration-color: #00af00\">0</span> │\n",
       "├─────────────────────────────────┼────────────────────────┼───────────────┤\n",
       "│ conv2d_19 (<span style=\"color: #0087ff; text-decoration-color: #0087ff\">Conv2D</span>)              │ (<span style=\"color: #00d7ff; text-decoration-color: #00d7ff\">None</span>, <span style=\"color: #00af00; text-decoration-color: #00af00\">52</span>, <span style=\"color: #00af00; text-decoration-color: #00af00\">52</span>, <span style=\"color: #00af00; text-decoration-color: #00af00\">128</span>)    │        <span style=\"color: #00af00; text-decoration-color: #00af00\">73,856</span> │\n",
       "├─────────────────────────────────┼────────────────────────┼───────────────┤\n",
       "│ max_pooling2d_14 (<span style=\"color: #0087ff; text-decoration-color: #0087ff\">MaxPooling2D</span>) │ (<span style=\"color: #00d7ff; text-decoration-color: #00d7ff\">None</span>, <span style=\"color: #00af00; text-decoration-color: #00af00\">26</span>, <span style=\"color: #00af00; text-decoration-color: #00af00\">26</span>, <span style=\"color: #00af00; text-decoration-color: #00af00\">128</span>)    │             <span style=\"color: #00af00; text-decoration-color: #00af00\">0</span> │\n",
       "├─────────────────────────────────┼────────────────────────┼───────────────┤\n",
       "│ dropout_8 (<span style=\"color: #0087ff; text-decoration-color: #0087ff\">Dropout</span>)             │ (<span style=\"color: #00d7ff; text-decoration-color: #00d7ff\">None</span>, <span style=\"color: #00af00; text-decoration-color: #00af00\">26</span>, <span style=\"color: #00af00; text-decoration-color: #00af00\">26</span>, <span style=\"color: #00af00; text-decoration-color: #00af00\">128</span>)    │             <span style=\"color: #00af00; text-decoration-color: #00af00\">0</span> │\n",
       "├─────────────────────────────────┼────────────────────────┼───────────────┤\n",
       "│ flatten_6 (<span style=\"color: #0087ff; text-decoration-color: #0087ff\">Flatten</span>)             │ (<span style=\"color: #00d7ff; text-decoration-color: #00d7ff\">None</span>, <span style=\"color: #00af00; text-decoration-color: #00af00\">86528</span>)          │             <span style=\"color: #00af00; text-decoration-color: #00af00\">0</span> │\n",
       "├─────────────────────────────────┼────────────────────────┼───────────────┤\n",
       "│ dense_10 (<span style=\"color: #0087ff; text-decoration-color: #0087ff\">Dense</span>)                │ (<span style=\"color: #00d7ff; text-decoration-color: #00d7ff\">None</span>, <span style=\"color: #00af00; text-decoration-color: #00af00\">64</span>)             │     <span style=\"color: #00af00; text-decoration-color: #00af00\">5,537,856</span> │\n",
       "├─────────────────────────────────┼────────────────────────┼───────────────┤\n",
       "│ dropout_9 (<span style=\"color: #0087ff; text-decoration-color: #0087ff\">Dropout</span>)             │ (<span style=\"color: #00d7ff; text-decoration-color: #00d7ff\">None</span>, <span style=\"color: #00af00; text-decoration-color: #00af00\">64</span>)             │             <span style=\"color: #00af00; text-decoration-color: #00af00\">0</span> │\n",
       "├─────────────────────────────────┼────────────────────────┼───────────────┤\n",
       "│ dense_11 (<span style=\"color: #0087ff; text-decoration-color: #0087ff\">Dense</span>)                │ (<span style=\"color: #00d7ff; text-decoration-color: #00d7ff\">None</span>, <span style=\"color: #00af00; text-decoration-color: #00af00\">1</span>)              │            <span style=\"color: #00af00; text-decoration-color: #00af00\">65</span> │\n",
       "└─────────────────────────────────┴────────────────────────┴───────────────┘\n",
       "</pre>\n"
      ],
      "text/plain": [
       "┏━━━━━━━━━━━━━━━━━━━━━━━━━━━━━━━━━┳━━━━━━━━━━━━━━━━━━━━━━━━┳━━━━━━━━━━━━━━━┓\n",
       "┃\u001b[1m \u001b[0m\u001b[1mLayer (type)                   \u001b[0m\u001b[1m \u001b[0m┃\u001b[1m \u001b[0m\u001b[1mOutput Shape          \u001b[0m\u001b[1m \u001b[0m┃\u001b[1m \u001b[0m\u001b[1m      Param #\u001b[0m\u001b[1m \u001b[0m┃\n",
       "┡━━━━━━━━━━━━━━━━━━━━━━━━━━━━━━━━━╇━━━━━━━━━━━━━━━━━━━━━━━━╇━━━━━━━━━━━━━━━┩\n",
       "│ conv2d_16 (\u001b[38;5;33mConv2D\u001b[0m)              │ (\u001b[38;5;45mNone\u001b[0m, \u001b[38;5;34m224\u001b[0m, \u001b[38;5;34m224\u001b[0m, \u001b[38;5;34m16\u001b[0m)   │           \u001b[38;5;34m448\u001b[0m │\n",
       "├─────────────────────────────────┼────────────────────────┼───────────────┤\n",
       "│ conv2d_17 (\u001b[38;5;33mConv2D\u001b[0m)              │ (\u001b[38;5;45mNone\u001b[0m, \u001b[38;5;34m222\u001b[0m, \u001b[38;5;34m222\u001b[0m, \u001b[38;5;34m36\u001b[0m)   │         \u001b[38;5;34m5,220\u001b[0m │\n",
       "├─────────────────────────────────┼────────────────────────┼───────────────┤\n",
       "│ max_pooling2d_12 (\u001b[38;5;33mMaxPooling2D\u001b[0m) │ (\u001b[38;5;45mNone\u001b[0m, \u001b[38;5;34m111\u001b[0m, \u001b[38;5;34m111\u001b[0m, \u001b[38;5;34m36\u001b[0m)   │             \u001b[38;5;34m0\u001b[0m │\n",
       "├─────────────────────────────────┼────────────────────────┼───────────────┤\n",
       "│ conv2d_18 (\u001b[38;5;33mConv2D\u001b[0m)              │ (\u001b[38;5;45mNone\u001b[0m, \u001b[38;5;34m109\u001b[0m, \u001b[38;5;34m109\u001b[0m, \u001b[38;5;34m64\u001b[0m)   │        \u001b[38;5;34m20,800\u001b[0m │\n",
       "├─────────────────────────────────┼────────────────────────┼───────────────┤\n",
       "│ max_pooling2d_13 (\u001b[38;5;33mMaxPooling2D\u001b[0m) │ (\u001b[38;5;45mNone\u001b[0m, \u001b[38;5;34m54\u001b[0m, \u001b[38;5;34m54\u001b[0m, \u001b[38;5;34m64\u001b[0m)     │             \u001b[38;5;34m0\u001b[0m │\n",
       "├─────────────────────────────────┼────────────────────────┼───────────────┤\n",
       "│ conv2d_19 (\u001b[38;5;33mConv2D\u001b[0m)              │ (\u001b[38;5;45mNone\u001b[0m, \u001b[38;5;34m52\u001b[0m, \u001b[38;5;34m52\u001b[0m, \u001b[38;5;34m128\u001b[0m)    │        \u001b[38;5;34m73,856\u001b[0m │\n",
       "├─────────────────────────────────┼────────────────────────┼───────────────┤\n",
       "│ max_pooling2d_14 (\u001b[38;5;33mMaxPooling2D\u001b[0m) │ (\u001b[38;5;45mNone\u001b[0m, \u001b[38;5;34m26\u001b[0m, \u001b[38;5;34m26\u001b[0m, \u001b[38;5;34m128\u001b[0m)    │             \u001b[38;5;34m0\u001b[0m │\n",
       "├─────────────────────────────────┼────────────────────────┼───────────────┤\n",
       "│ dropout_8 (\u001b[38;5;33mDropout\u001b[0m)             │ (\u001b[38;5;45mNone\u001b[0m, \u001b[38;5;34m26\u001b[0m, \u001b[38;5;34m26\u001b[0m, \u001b[38;5;34m128\u001b[0m)    │             \u001b[38;5;34m0\u001b[0m │\n",
       "├─────────────────────────────────┼────────────────────────┼───────────────┤\n",
       "│ flatten_6 (\u001b[38;5;33mFlatten\u001b[0m)             │ (\u001b[38;5;45mNone\u001b[0m, \u001b[38;5;34m86528\u001b[0m)          │             \u001b[38;5;34m0\u001b[0m │\n",
       "├─────────────────────────────────┼────────────────────────┼───────────────┤\n",
       "│ dense_10 (\u001b[38;5;33mDense\u001b[0m)                │ (\u001b[38;5;45mNone\u001b[0m, \u001b[38;5;34m64\u001b[0m)             │     \u001b[38;5;34m5,537,856\u001b[0m │\n",
       "├─────────────────────────────────┼────────────────────────┼───────────────┤\n",
       "│ dropout_9 (\u001b[38;5;33mDropout\u001b[0m)             │ (\u001b[38;5;45mNone\u001b[0m, \u001b[38;5;34m64\u001b[0m)             │             \u001b[38;5;34m0\u001b[0m │\n",
       "├─────────────────────────────────┼────────────────────────┼───────────────┤\n",
       "│ dense_11 (\u001b[38;5;33mDense\u001b[0m)                │ (\u001b[38;5;45mNone\u001b[0m, \u001b[38;5;34m1\u001b[0m)              │            \u001b[38;5;34m65\u001b[0m │\n",
       "└─────────────────────────────────┴────────────────────────┴───────────────┘\n"
      ]
     },
     "metadata": {},
     "output_type": "display_data"
    },
    {
     "data": {
      "text/html": [
       "<pre style=\"white-space:pre;overflow-x:auto;line-height:normal;font-family:Menlo,'DejaVu Sans Mono',consolas,'Courier New',monospace\"><span style=\"font-weight: bold\"> Total params: </span><span style=\"color: #00af00; text-decoration-color: #00af00\">5,638,245</span> (21.51 MB)\n",
       "</pre>\n"
      ],
      "text/plain": [
       "\u001b[1m Total params: \u001b[0m\u001b[38;5;34m5,638,245\u001b[0m (21.51 MB)\n"
      ]
     },
     "metadata": {},
     "output_type": "display_data"
    },
    {
     "data": {
      "text/html": [
       "<pre style=\"white-space:pre;overflow-x:auto;line-height:normal;font-family:Menlo,'DejaVu Sans Mono',consolas,'Courier New',monospace\"><span style=\"font-weight: bold\"> Trainable params: </span><span style=\"color: #00af00; text-decoration-color: #00af00\">5,638,245</span> (21.51 MB)\n",
       "</pre>\n"
      ],
      "text/plain": [
       "\u001b[1m Trainable params: \u001b[0m\u001b[38;5;34m5,638,245\u001b[0m (21.51 MB)\n"
      ]
     },
     "metadata": {},
     "output_type": "display_data"
    },
    {
     "data": {
      "text/html": [
       "<pre style=\"white-space:pre;overflow-x:auto;line-height:normal;font-family:Menlo,'DejaVu Sans Mono',consolas,'Courier New',monospace\"><span style=\"font-weight: bold\"> Non-trainable params: </span><span style=\"color: #00af00; text-decoration-color: #00af00\">0</span> (0.00 B)\n",
       "</pre>\n"
      ],
      "text/plain": [
       "\u001b[1m Non-trainable params: \u001b[0m\u001b[38;5;34m0\u001b[0m (0.00 B)\n"
      ]
     },
     "metadata": {},
     "output_type": "display_data"
    }
   ],
   "source": [
    "import keras\n",
    "from keras.layers import Conv2D, MaxPooling2D, Flatten, Dense, Dropout, BatchNormalization, GlobalAveragePooling2D\n",
    "from keras.models import Sequential\n",
    "from tensorflow.keras.preprocessing.image import ImageDataGenerator\n",
    "\n",
    "# CNN Model\n",
    "\n",
    "model = Sequential()\n",
    "model.add(Conv2D(filters=16, kernel_size=(3,3), activation='relu', input_shape=(224, 224, 3), padding='same'))\n",
    "model.add(Conv2D(filters=36, kernel_size=(3,3), activation='relu'))\n",
    "model.add(MaxPooling2D(pool_size=(2, 2)))\n",
    "\n",
    "model.add(Conv2D(filters=64, kernel_size=(3,3), activation='relu'))\n",
    "model.add(MaxPooling2D(pool_size=(2, 2)))\n",
    "\n",
    "model.add(Conv2D(filters=128, kernel_size=(3,3), activation='relu'))\n",
    "model.add(MaxPooling2D(pool_size=(2, 2)))\n",
    "\n",
    "model.add(Dropout(rate=0.25))\n",
    "\n",
    "model.add(Flatten())\n",
    "model.add(Dense(units=64, activation='relu'))\n",
    "\n",
    "model.add(Dropout(rate=0.25))\n",
    "model.add(Dense(units=1, activation='sigmoid'))\n",
    "\n",
    "model.summary()\n"
   ]
  },
  {
   "cell_type": "code",
   "execution_count": 66,
   "id": "39367932",
   "metadata": {},
   "outputs": [],
   "source": [
    "# Model Compilation\n",
    "\n",
    "model.compile(optimizer='adam', loss=keras.losses.BinaryCrossentropy(), metrics=['accuracy'])"
   ]
  },
  {
   "cell_type": "markdown",
   "id": "c3e6041a",
   "metadata": {},
   "source": [
    "Preparing our Data using DataGenerator"
   ]
  },
  {
   "cell_type": "code",
   "execution_count": 67,
   "id": "809ec7be",
   "metadata": {},
   "outputs": [],
   "source": [
    "#Training Data\n",
    "from tensorflow.keras.applications.mobilenet import MobileNet, preprocess_input\n",
    "def preProcessingImage1(path):\n",
    "    ''' Input: Path of the image\n",
    "    Output: Preprocessed image\n",
    "    '''\n",
    "    \n",
    "    image_data = ImageDataGenerator(zoom_range=0.2, shear_range=0.2, preprocessing_function=preprocess_input, horizontal_flip=True) #data augmentation\n",
    "    image = image_data.flow_from_directory(directory=path, target_size=(224, 224), batch_size=32, class_mode='binary')\n",
    "    \n",
    "    return image"
   ]
  },
  {
   "cell_type": "code",
   "execution_count": 68,
   "id": "fb42c745",
   "metadata": {},
   "outputs": [
    {
     "name": "stdout",
     "output_type": "stream",
     "text": [
      "Found 2065 images belonging to 2 classes.\n"
     ]
    }
   ],
   "source": [
    "training_data = preProcessingImage1(r'C:\\Users\\lenovo\\Desktop\\Code\\Mini Project\\Tumour Detection\\Training Data')"
   ]
  },
  {
   "cell_type": "code",
   "execution_count": 69,
   "id": "8d69b7f2",
   "metadata": {},
   "outputs": [],
   "source": [
    "# Validation Data\n",
    "from tensorflow.keras.applications.mobilenet import MobileNet, preprocess_input\n",
    "def preProcessingImage2(path):\n",
    "    ''' Input: Path of the image\n",
    "    Output: Preprocessed image\n",
    "    '''\n",
    "    \n",
    "    image_data = ImageDataGenerator(preprocessing_function=preprocess_input)\n",
    "    image = image_data.flow_from_directory(directory=path, target_size=(224, 224), batch_size=32, class_mode='binary')\n",
    "    \n",
    "    return image"
   ]
  },
  {
   "cell_type": "code",
   "execution_count": 70,
   "id": "fa544565",
   "metadata": {},
   "outputs": [
    {
     "name": "stdout",
     "output_type": "stream",
     "text": [
      "Found 299 images belonging to 2 classes.\n",
      "Found 299 images belonging to 2 classes.\n"
     ]
    }
   ],
   "source": [
    "test_data = preProcessingImage2(r'C:\\Users\\lenovo\\Desktop\\Code\\Mini Project\\Tumour Detection\\TestingData')\n",
    "\n",
    "val_data = preProcessingImage2(r'C:\\Users\\lenovo\\Desktop\\Code\\Mini Project\\Tumour Detection\\ValidationData')"
   ]
  },
  {
   "cell_type": "code",
   "execution_count": 71,
   "id": "c2bc71e2",
   "metadata": {},
   "outputs": [],
   "source": [
    "# Early Stopping and Model Checkpoint\n",
    "\n",
    "from keras.callbacks import EarlyStopping, ModelCheckpoint\n",
    "\n",
    "# Early Stopping\n",
    "early_stopping = EarlyStopping(monitor='val_accuracy',min_delta= 0.01, patience=3, verbose=1, mode='auto')\n",
    "\n",
    "# Model Checkpoint\n",
    "model_checkpoint = ModelCheckpoint(filepath='./best_model.h5', monitor='val_accuracy', save_best_only=True, verbose=1, mode='auto')\n",
    "\n",
    "callBacks = [early_stopping, model_checkpoint]"
   ]
  },
  {
   "cell_type": "markdown",
   "id": "4e201f67",
   "metadata": {},
   "source": [
    "## *Model Training*"
   ]
  },
  {
   "cell_type": "code",
   "execution_count": 72,
   "id": "b9664d43",
   "metadata": {},
   "outputs": [],
   "source": [
    "# Model Training\n",
    "\n",
    "import numpy as np\n",
    "import matplotlib.pyplot as plt\n",
    "from keras.layers import Flatten, Dense\n",
    "from keras.models import Model, load_model\n",
    "from keras.applications.mobilenet import MobileNet, preprocess_input\n",
    "\n",
    "\n",
    "base_model = MobileNet(input_shape=(224, 224, 3), include_top=False, weights='imagenet')\n",
    "\n",
    "for layer in base_model.layers:\n",
    "    layer.trainable = False\n",
    "    \n",
    "\n"
   ]
  },
  {
   "cell_type": "code",
   "execution_count": 2,
   "id": "ce6dbc4f",
   "metadata": {},
   "outputs": [
    {
     "ename": "NameError",
     "evalue": "name 'Flatten' is not defined",
     "output_type": "error",
     "traceback": [
      "\u001b[31m---------------------------------------------------------------------------\u001b[39m",
      "\u001b[31mNameError\u001b[39m                                 Traceback (most recent call last)",
      "\u001b[36mCell\u001b[39m\u001b[36m \u001b[39m\u001b[32mIn[2]\u001b[39m\u001b[32m, line 4\u001b[39m\n\u001b[32m      1\u001b[39m \u001b[38;5;66;03m# base_model.summary()\u001b[39;00m\n\u001b[32m      2\u001b[39m \u001b[38;5;28;01mimport\u001b[39;00m\u001b[38;5;250m \u001b[39m\u001b[34;01mkeras\u001b[39;00m\n\u001b[32m----> \u001b[39m\u001b[32m4\u001b[39m X = \u001b[43mFlatten\u001b[49m()(base_model.output)\n\u001b[32m      5\u001b[39m X = Dense(units=\u001b[32m1\u001b[39m, activation=\u001b[33m'\u001b[39m\u001b[33msigmoid\u001b[39m\u001b[33m'\u001b[39m)(X)\n\u001b[32m      7\u001b[39m model = Model(base_model.input, X)\n",
      "\u001b[31mNameError\u001b[39m: name 'Flatten' is not defined"
     ]
    }
   ],
   "source": [
    "# base_model.summary()\n",
    "import keras\n",
    "\n",
    "X = Flatten()(base_model.output)\n",
    "X = Dense(units=1, activation='sigmoid')(X)\n",
    "\n",
    "model = Model(base_model.input, X)\n",
    "model.compile(loss=keras.losses.binary_crossentropy, optimizer='rmsprop', metrics=['accuracy'])"
   ]
  },
  {
   "cell_type": "code",
   "execution_count": 74,
   "id": "10f7ae76",
   "metadata": {},
   "outputs": [],
   "source": [
    "from keras.callbacks import EarlyStopping, ModelCheckpoint\n",
    "\n",
    "# model checkpoint\n",
    "MC = ModelCheckpoint(filepath='./best_model.h5', monitor='val_accuracy', save_best_only=True, verbose=1)\n",
    "\n",
    "# early stopping\n",
    "ES = EarlyStopping(monitor='val_accuracy', min_delta=0.01, patience=3, verbose=1)\n",
    "\n",
    "CB = [MC, ES]\n"
   ]
  },
  {
   "cell_type": "code",
   "execution_count": 1,
   "id": "2012cb18",
   "metadata": {},
   "outputs": [
    {
     "ename": "NameError",
     "evalue": "name 'model' is not defined",
     "output_type": "error",
     "traceback": [
      "\u001b[31m---------------------------------------------------------------------------\u001b[39m",
      "\u001b[31mNameError\u001b[39m                                 Traceback (most recent call last)",
      "\u001b[36mCell\u001b[39m\u001b[36m \u001b[39m\u001b[32mIn[1]\u001b[39m\u001b[32m, line 1\u001b[39m\n\u001b[32m----> \u001b[39m\u001b[32m1\u001b[39m History = \u001b[43mmodel\u001b[49m.fit(training_data, steps_per_epoch=\u001b[32m8\u001b[39m, epochs=\u001b[32m30\u001b[39m, validation_data=val_data, validation_steps=\u001b[32m16\u001b[39m, callbacks=CB)\n",
      "\u001b[31mNameError\u001b[39m: name 'model' is not defined"
     ]
    }
   ],
   "source": [
    "History = model.fit(training_data, steps_per_epoch=8, epochs=30, validation_data=val_data, validation_steps=16, callbacks=CB)"
   ]
  },
  {
   "cell_type": "code",
   "execution_count": 76,
   "id": "fd3864c4",
   "metadata": {},
   "outputs": [
    {
     "name": "stderr",
     "output_type": "stream",
     "text": [
      "WARNING:absl:Compiled the loaded model, but the compiled metrics have yet to be built. `model.compile_metrics` will be empty until you train or evaluate the model.\n"
     ]
    }
   ],
   "source": [
    "# load the best fit model\n",
    "\n",
    "model = load_model('./best_model.h5')"
   ]
  },
  {
   "cell_type": "code",
   "execution_count": 6,
   "id": "33b5db32",
   "metadata": {},
   "outputs": [
    {
     "ename": "NameError",
     "evalue": "name 'History' is not defined",
     "output_type": "error",
     "traceback": [
      "\u001b[31m---------------------------------------------------------------------------\u001b[39m",
      "\u001b[31mNameError\u001b[39m                                 Traceback (most recent call last)",
      "\u001b[36mCell\u001b[39m\u001b[36m \u001b[39m\u001b[32mIn[6]\u001b[39m\u001b[32m, line 3\u001b[39m\n\u001b[32m      1\u001b[39m \u001b[38;5;66;03m# Model Graphical Representation\u001b[39;00m\n\u001b[32m----> \u001b[39m\u001b[32m3\u001b[39m h= \u001b[43mHistory\u001b[49m.history\n\u001b[32m      4\u001b[39m h.keys()\n\u001b[32m      6\u001b[39m \u001b[38;5;66;03m# Plotting Accuracy\u001b[39;00m\n",
      "\u001b[31mNameError\u001b[39m: name 'History' is not defined"
     ]
    }
   ],
   "source": [
    "# Model Graphical Representation\n",
    "\n",
    "h= History.history\n",
    "h.keys()\n",
    "\n",
    "# Plotting Accuracy\n",
    "\n",
    "plt.plot(h['accuracy'], label='Training Accuracy')\n",
    "plt.plot(h['val_accuracy'], label='Validation Accuracy')\n",
    "plt.title('Accuracy')\n",
    "plt.xlabel('Epochs')\n",
    "plt.ylabel('Accuracy')\n",
    "plt.legend()\n",
    "# plt.show() #-> remove '#' to see the accuracy graph\n",
    "\n",
    "# Plotting Loss\n",
    "plt.plot(h['loss'], label='Training Loss')\n",
    "plt.plot(h['val_loss'], label='Validation Loss')\n",
    "plt.title('Loss')\n",
    "plt.xlabel('Epochs')\n",
    "plt.ylabel('Loss')\n",
    "plt.legend()\n",
    "# plt.show() #-> remove '#' to see the loss graph"
   ]
  },
  {
   "cell_type": "code",
   "execution_count": 78,
   "id": "5aac1e00",
   "metadata": {},
   "outputs": [
    {
     "name": "stderr",
     "output_type": "stream",
     "text": [
      "WARNING:absl:Compiled the loaded model, but the compiled metrics have yet to be built. `model.compile_metrics` will be empty until you train or evaluate the model.\n"
     ]
    }
   ],
   "source": [
    "# Loading the best model\n",
    "\n",
    "from keras.models import load_model\n",
    "\n",
    "model = load_model(r'C:\\Users\\lenovo\\Desktop\\Code\\Mini Project\\Tumour Detection\\best_model.h5')"
   ]
  },
  {
   "cell_type": "markdown",
   "id": "8e7da94c",
   "metadata": {},
   "source": [
    "## *Model Accuracy*"
   ]
  },
  {
   "cell_type": "code",
   "execution_count": 80,
   "id": "6c6a0f51",
   "metadata": {},
   "outputs": [
    {
     "name": "stdout",
     "output_type": "stream",
     "text": [
      "\u001b[1m10/10\u001b[0m \u001b[32m━━━━━━━━━━━━━━━━━━━━\u001b[0m\u001b[37m\u001b[0m \u001b[1m6s\u001b[0m 578ms/step - accuracy: 0.9078 - loss: 0.5979\n",
      "Accuracy of our model is:  91.63879752159119 %\n"
     ]
    }
   ],
   "source": [
    "acc = model.evaluate(test_data)\n",
    "\n",
    "print(f\"Accuracy of our model is: \", (acc[1] * 100), \"%\")"
   ]
  },
  {
   "cell_type": "code",
   "execution_count": null,
   "id": "645a427f",
   "metadata": {},
   "outputs": [
    {
     "ename": "NameError",
     "evalue": "name 'plt' is not defined",
     "output_type": "error",
     "traceback": [
      "\u001b[31m---------------------------------------------------------------------------\u001b[39m",
      "\u001b[31mNameError\u001b[39m                                 Traceback (most recent call last)",
      "\u001b[36mCell\u001b[39m\u001b[36m \u001b[39m\u001b[32mIn[3]\u001b[39m\u001b[32m, line 10\u001b[39m\n\u001b[32m      7\u001b[39m img= load_img(path, target_size=(\u001b[32m224\u001b[39m,\u001b[32m224\u001b[39m))\n\u001b[32m      8\u001b[39m input_arr = img_to_array(img)/\u001b[32m255\u001b[39m\n\u001b[32m---> \u001b[39m\u001b[32m10\u001b[39m \u001b[43mplt\u001b[49m.imshow(img)\n\u001b[32m     11\u001b[39m plt.show()\n\u001b[32m     13\u001b[39m input_arr.shape\n",
      "\u001b[31mNameError\u001b[39m: name 'plt' is not defined"
     ]
    }
   ],
   "source": [
    "# to check if a random image has tumour or not\n",
    "\n",
    "from keras.preprocessing import image\n",
    "\n",
    "path=r'C:\\Users\\lenovo\\Desktop\\Code\\Mini Project\\Tumour Detection\\Training Data\\no\\aug_10 no_0_2521.jpg'\n",
    "\n",
    "img= load_img(path, target_size=(224,224))\n",
    "input_img = image.img_to_array(img)/255   # we divide by 255 to normalize the image\n",
    "input_img = preprocess_input(input_img)\n",
    "plt.imshow(img)\n",
    "plt.show()\n",
    "\n",
    "input_img = np.array(input_img)\n",
    "input_img.shape\n",
    "\n",
    "prediction = np.argmax(model.predict(input_img))\n",
    "\n",
    "if prediction == 0:\n",
    "    print(\"The image has a tumour\")\n",
    "else:\n",
    "    print(\"The image does not have a tumour\")\n",
    "\n",
    "# to check the class indices of the training data\n",
    "training_data.class_indices"
   ]
  }
 ],
 "metadata": {
  "kernelspec": {
   "display_name": "Python 3",
   "language": "python",
   "name": "python3"
  },
  "language_info": {
   "codemirror_mode": {
    "name": "ipython",
    "version": 3
   },
   "file_extension": ".py",
   "mimetype": "text/x-python",
   "name": "python",
   "nbconvert_exporter": "python",
   "pygments_lexer": "ipython3",
   "version": "3.12.5"
  }
 },
 "nbformat": 4,
 "nbformat_minor": 5
}
